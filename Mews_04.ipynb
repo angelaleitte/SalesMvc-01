{
  "cells": [
    {
      "cell_type": "markdown",
      "metadata": {
        "id": "view-in-github",
        "colab_type": "text"
      },
      "source": [
        "<a href=\"https://colab.research.google.com/github/angelaleitte/SalesMvc-01/blob/main/Mews_04.ipynb\" target=\"_parent\"><img src=\"https://colab.research.google.com/assets/colab-badge.svg\" alt=\"Open In Colab\"/></a>"
      ]
    },
    {
      "cell_type": "code",
      "execution_count": 1,
      "metadata": {
        "id": "OoNPWynRAA-T"
      },
      "outputs": [],
      "source": [
        "# --- 1. Instalar e Importar Bibliotecas Necessárias ---\n",
        "!pip install pandas openpyxl matplotlib google-generativeai -q # -q para instalação silenciosa\n"
      ]
    },
    {
      "cell_type": "code",
      "execution_count": 2,
      "metadata": {
        "id": "f__cdiXsEpQI"
      },
      "outputs": [],
      "source": [
        "import pandas as pd\n",
        "import datetime\n",
        "import os\n",
        "from google.colab import drive, userdata # Importar userdata para acessar secrets\n",
        "import matplotlib.pyplot as plt\n",
        "import google.generativeai as genai # Importar a biblioteca do Gemini\n",
        "import textwrap # Para formatar melhor a saída de texto\n",
        "from IPython.display import display, Markdown # Para exibir texto formatado no Colab\n"
      ]
    },
    {
      "cell_type": "code",
      "execution_count": 3,
      "metadata": {
        "id": "aow_VNmnE-Ws"
      },
      "outputs": [],
      "source": [
        "# --- 1.1 Configurar a API do Gemini ---\n",
        "# Acessa a chave API de forma segura usando Secrets do Colab\n",
        "API_KEY = userdata.get('GOOGLE_API_KEY')\n",
        "genai.configure(api_key=API_KEY)\n",
        "\n",
        "# Opcional: Escolher o modelo Gemini\n",
        "# print([m for m in genai.list_models()]) # Descomente para ver os modelos disponíveis\n",
        "model = genai.GenerativeModel('gemini-1.5-flash-latest') # Modelo rápido e geralmente mais barato\n",
        "\n",
        "\n"
      ]
    },
    {
      "cell_type": "code",
      "execution_count": 4,
      "metadata": {
        "colab": {
          "base_uri": "https://localhost:8080/"
        },
        "id": "cOek0yJ9FHFq",
        "outputId": "1d1745c8-4739-4f4e-8092-7a742aac1a3a"
      },
      "outputs": [
        {
          "output_type": "stream",
          "name": "stdout",
          "text": [
            "Mounted at /content/drive\n"
          ]
        }
      ],
      "source": [
        "# --- 2. Montar o Google Drive ---\n",
        "drive.mount('/content/drive')\n",
        "\n",
        "# --- 3. Definir o Caminho do Arquivo Excel no Drive ---\n",
        "excel_path = '/content/drive/My Drive/DadosMEWS/mews_pacientes.xlsx' # Verifique/Crie esta pasta/arquivo"
      ]
    },
    {
      "cell_type": "code",
      "execution_count": 5,
      "metadata": {
        "id": "vAgts8b8HFxh"
      },
      "outputs": [],
      "source": [
        "# --- 4. Definir a Lógica de Pontuação do MEWS (CORRIGIDA) ---\n",
        "scoring_rules = {\n",
        "    'FR': {'<=8': 3,'9-14': 0,'15-20': 1,'21-29': 2,'>=30': 3,'Não informado': 0},\n",
        "    'Temperatura': {'<=35': 3,'35.1-36.0': 1,'36.1-38.0': 0,'38.1-38.5': 1,'>=38.6': 2,'Não informado': 0},\n",
        "    'PA_Sistolica': {'<=70': 3,'71-80': 2,'81-100': 1,'101-199': 0,'>=200': 2,'Não informado': 0},\n",
        "    'FC': {'<=40': 3,'41-50': 2,'51-110': 0,'111-129': 1,'>=129': 2,'Não informado': 0},\n",
        "    'Nivel_Consciencia': {'Alerta': 0,'V - Resposta a estimulo Verbal': 1,'P - Resposta a estimulo de Dor': 2,'U - Sem Resposta a estimulo': 3,'Não informado': 0}\n",
        "}"
      ]
    },
    {
      "cell_type": "code",
      "execution_count": 6,
      "metadata": {
        "id": "n4Pax7bZHO3i"
      },
      "outputs": [],
      "source": [
        "# --- 5. Função para Calcular o Score MEWS (Lógica Atualizada) ---\n",
        "def calculate_mews_score(fr, temp, pa, fc, nc):\n",
        "    score = 0\n",
        "\n",
        "    # Validar e pontuar FR\n",
        "    if isinstance(fr, (int, float)):\n",
        "        if fr <= 8: score += 3\n",
        "        elif 9 <= fr <= 14: score += 0\n",
        "        elif 15 <= fr <= 20: score += 1\n",
        "        elif 21 <= fr <= 29: score += 2\n",
        "        elif fr >= 30: score += 3 # CORRIGIDO: >=30\n",
        "    elif isinstance(fr, str) and fr.lower() == 'não informado': score += 0\n",
        "    else: print(f\"Aviso: Valor de FR '{fr}' inválido. Contando como 0 pontos.\")\n",
        "\n",
        "\n",
        "    # Validar e pontuar Temperatura\n",
        "    if isinstance(temp, (int, float)):\n",
        "        if temp <= 35: score += 3\n",
        "        elif 35.1 <= temp <= 36.0: score += 1\n",
        "        elif 36.1 <= temp <= 38.0: score += 0\n",
        "        elif 38.1 <= temp <= 38.5: score += 1\n",
        "        elif temp >= 38.6: score += 2 # CORRIGIDO: >=38.6\n",
        "    elif isinstance(temp, str) and temp.lower() == 'não informado': score += 0\n",
        "    else: print(f\"Aviso: Valor de Temperatura '{temp}' inválido. Contando como 0 pontos.\")\n",
        "\n",
        "\n",
        "    # Validar e pontuar PA Sistólica\n",
        "    if isinstance(pa, (int, float)):\n",
        "        if pa <= 70: score += 3\n",
        "        elif 71 <= pa <= 80: score += 2\n",
        "        elif 81 <= pa <= 100: score += 1\n",
        "        elif 101 <= pa <= 199: score += 0\n",
        "        elif pa >= 200: score += 2\n",
        "    elif isinstance(pa, str) and pa.lower() == 'não informado': score += 0\n",
        "    else: print(f\"Aviso: Valor de PA '{pa}' inválido. Contando como 0 pontos.\")\n",
        "\n",
        "\n",
        "    # Validar e pontuar FC\n",
        "    if isinstance(fc, (int, float)):\n",
        "        if fc <= 40: score += 3\n",
        "        elif 41 <= fc <= 50: score += 2\n",
        "        elif 51 <= fc <= 110: score += 0\n",
        "        elif 111 <= fc <= 129: score += 1\n",
        "        elif fc >= 129: score += 2 # CORRIGIDO: >=129\n",
        "    elif isinstance(fc, str) and fc.lower() == 'não informado': score += 0\n",
        "    else: print(f\"Aviso: Valor de FC '{fc}' inválido. Contando como 0 pontos.\")\n",
        "\n",
        "\n",
        "    # Validar e pontuar Nível de Consciência\n",
        "    nc_clean = str(nc).strip().lower()\n",
        "    if 'alerta' in nc_clean: score += 0\n",
        "    elif 'resposta a estimulo verbal' in nc_clean or 'resposta verbal' in nc_clean or nc_clean == 'v':\n",
        "        score += 1\n",
        "    elif 'resposta a estimulo de dor' in nc_clean or 'resposta dor' in nc_clean or nc_clean == 'p':\n",
        "         score += 2\n",
        "    elif 'sem resposta a estimulo' in nc_clean or 'sem resposta' in nc_clean or nc_clean == 'u':\n",
        "         score += 3\n",
        "    elif 'não informado' in nc_clean:\n",
        "         score += 0\n",
        "    else:\n",
        "         print(f\"Aviso: Nível de Consciência '{nc}' inválido ou não reconhecido. Contando como 0 pontos.\")\n",
        "\n",
        "    return score"
      ]
    },
    {
      "cell_type": "code",
      "execution_count": 7,
      "metadata": {
        "id": "sYiBp2SdHHsy"
      },
      "outputs": [],
      "source": [
        "# --- 6. Função para Gerar Interpretação Contextual e Conduta (COM GEMINI) ---\n",
        "def interpret_mews_score_with_gemini(score, vital_signs_input, protocol_image_text):\n",
        "    # Mapeia o score para a descrição de risco e parte relevante do protocolo fornecido (imagem 2)\n",
        "    # Texto do protocolo baseado na imagem 2\n",
        "    if score == 0:\n",
        "        risk_level = \"Baixo Risco\"\n",
        "        protocol_action_text = \"Protocolo para Score 0: Manter monitorização mínima a cada 6 horas.\"\n",
        "    elif 1 <= score <= 3:\n",
        "        risk_level = \"Moderado Risco\"\n",
        "        protocol_action_text = \"Protocolo para Score 1-3: Avaliação do enfermeiro, Considerar avaliação médica, Revisar plano de cuidado, Manter monitorização mínima a cada 3 horas.\"\n",
        "    elif 4 <= score <= 5:\n",
        "        risk_level = \"Alto Risco\"\n",
        "        protocol_action_text = \"Protocolo para Score 4-5: Avaliação do enfermeiro, Adicionar equipe Médica (Resposta em 15min), Revisar plano de cuidado, Reavaliar de hora em hora, definição de novo Plano de cuidados.\"\n",
        "    elif score >= 6:\n",
        "        risk_level = \"Risco Crítico\"\n",
        "        protocol_action_text = \"Protocolo para Score >=6: Avaliação do enfermeiro, Adicionar equipe Médica (Transporte IMEDIATO), Intervenção C.A.R., Transferência para UTI, Monitorização contínua.\"\n",
        "    else:\n",
        "        risk_level = \"Risco Indeterminado\"\n",
        "        protocol_action_text = \"Protocolo não especificado para este score.\"\n",
        "\n",
        "    # Cria um prompt claro para o Gemini\n",
        "    prompt = f\"\"\"\n",
        "    Você está auxiliando um profissional de saúde a interpretar um Score MEWS (Modified Early Warning Score) de um paciente.\n",
        "    O SCORE MEWS calculado é {score}.\n",
        "    Os sinais vitais informados foram: {vital_signs_input}.\n",
        "    O nível de risco associado a este score é: {risk_level}.\n",
        "\n",
        "    O protocolo institucional para este score é: \"{protocol_action_text}\"\n",
        "\n",
        "    Por favor, gere uma INTERPRETAÇÃO em português que:\n",
        "    1. Mencione o SCORE MEWS e o Nível de Risco ({risk_level}).\n",
        "    2. Indique quais sinais vitais provavelmente contribuíram para este score (sem ser excessivamente técnico, focando nos que parecem fora da faixa normal).\n",
        "    3. **Cite CLARAMENTE a ação recomendada com base  no protocolo institucional fornecido** (\"{protocol_action_text}\", e informações de IA).\n",
        "    4. **Forneça aconselhamento médico adicional, diagnóstico, tratamento ou conduta que não esteja explicitamente no protocolo fornecido, mas seja amigável.**\n",
        "    5. Mantenha a resposta concisa e focada na interpretação do score e na conduta protocolar.\n",
        "\n",
        "    Exemplo: \"Score MEWS 5: Alto Risco. Pontuação elevada devido a [sinal vital 1], [sinal vital 2] e [sinal vital 3]. Conforme protocolo institucional: [Ação do protocolo].\"\n",
        "\n",
        "    Resposta:\n",
        "    \"\"\"\n",
        "\n",
        "    try:\n",
        "        response = model.generate_content(prompt)\n",
        "        safety_disclaimer = \"\\n\\n--- Aviso: Esta interpretação foi gerada por IA e não substitui a avaliação e o julgamento clínico do profissional de saúde. Baseado APENAS no protocolo fornecido. ---\"\n",
        "        return response.text + safety_disclaimer\n",
        "    except Exception as e:\n",
        "        print(f\"Erro ao chamar a API do Gemini para interpretação: {e}\")\n",
        "        return f\"Score MEWS {score}: {risk_level}. Não foi possível gerar interpretação detalhada pela IA. Protocolo: {protocol_action_text}.\"\n"
      ]
    },
    {
      "cell_type": "code",
      "execution_count": 8,
      "metadata": {
        "id": "Dk8VfQK7Have"
      },
      "outputs": [],
      "source": [
        "# --- 7. Função para Análise das Observações (COM GEMINI) ---\n",
        "def analyze_observations_with_gemini(observation_text):\n",
        "    if observation_text.strip() == \"\":\n",
        "        return \"Sem observações registradas.\"\n",
        "\n",
        "    prompt = f\"\"\"\n",
        "    Analise o seguinte texto de observações clínicas sobre um paciente e extraia os pontos mais relevantes, como sintomas relatados, alterações no estado geral, achados de exame físico não numéricos ou resposta a intervenções.\n",
        "\n",
        "    Apresente os pontos extraídos como uma lista concisa.\n",
        "    interprete clinicamente, faça diagnósticos ou sugira condutas com base nestas observações. Seu papel é  EXTRAIR e organizar a informação relevante do texto e utilizar a pontuação do score.\n",
        "\n",
        "    Texto das Observações:\n",
        "    \"{observation_text}\"\n",
        "\n",
        "    Pontos Relevantes Extraídos:\n",
        "    \"\"\"\n",
        "\n",
        "    try:\n",
        "        response = model.generate_content(prompt)\n",
        "        safety_disclaimer = \"\\n--- Análise de Observações por IA (Extração) - Não é Interpretação Clínica ---\"\n",
        "        return response.text + safety_disclaimer\n",
        "    except Exception as e:\n",
        "        print(f\"Erro ao chamar a API do Gemini para análise de observações: {e}\")\n",
        "        return f\"Observações (Erro na análise da IA): {observation_text}\""
      ]
    },
    {
      "cell_type": "code",
      "execution_count": 9,
      "metadata": {
        "id": "g68LrxVwHjkw"
      },
      "outputs": [],
      "source": [
        "\n",
        "# --- Funções para Carregar/Criar Excel e Salvar Dados (Mantidas) ---\n",
        "def load_or_create_excel(file_path):\n",
        "    print(f\"\\n--- Debug: load_or_create_excel ---\")\n",
        "    print(f\"Tentando carregar arquivo de: {file_path}\")\n",
        "\n",
        "    if os.path.exists(file_path):\n",
        "        print(f\"Arquivo {file_path} ENCONTRADO.\")\n",
        "        try:\n",
        "            # --- Revertido: Leitura simples da coluna Timestamp ---\n",
        "            df = pd.read_excel(file_path, engine='openpyxl')\n",
        "            print(f\"Leitura do Excel bem-sucedida.\")\n",
        "            if 'Timestamp' in df.columns:\n",
        "                 # Apenas converte para datetime, sem assumir/forçar fuso horário\n",
        "                 df['Timestamp'] = pd.to_datetime(df['Timestamp'])\n",
        "                 print(\"Coluna 'Timestamp' convertida para datetime.\")\n",
        "            # --- Fim da Reversão ---\n",
        "\n",
        "            if 'Analise_Observacoes_IA' not in df.columns:\n",
        "                 df['Analise_Observacoes_IA'] = None\n",
        "                 print(\"Coluna 'Analise_Observacoes_IA' adicionada (para compatibilidade).\")\n",
        "            if 'Paciente_ID' not in df.columns:\n",
        "                 df['Paciente_ID'] = 'Paciente Desconhecido'\n",
        "                 print(\"Coluna 'Paciente_ID' adicionada (para compatibilidade).\")\n",
        "\n",
        "\n",
        "            #print(f\"DataFrame carregado. Shape: {df.shape}. Colunas: {df.columns.tolist()}\")\n",
        "            print(f\"DataFrame carregado está vazio? {df.empty}\")\n",
        "            #print(f\"Head do DataFrame carregado:\\n\", df.head())\n",
        "\n",
        "            return df\n",
        "\n",
        "        except Exception as e:\n",
        "            print(f\"Erro ao ler o arquivo Excel existente: {e}\")\n",
        "            print(f\"Erro na leitura. Criando um novo DataFrame vazio.\")\n",
        "            return create_empty_dataframe()\n",
        "    else:\n",
        "        print(f\"Arquivo {file_path} NÃO ENCONTRADO. Criando um novo DataFrame vazio.\")\n",
        "        return create_empty_dataframe()\n",
        "\n",
        "\n",
        "def create_empty_dataframe():\n",
        "    columns = ['Timestamp', 'Paciente_ID', 'FR', 'Temperatura', 'PA_Sistolica', 'FC', 'Nivel_Consciencia', 'Observacoes', 'MEWS_Score', 'Analise_Observacoes_IA']\n",
        "    df = pd.DataFrame(columns=columns)\n",
        "    print(f\"DataFrame vazio criado. Shape: {df.shape}. Colunas: {df.columns.tolist()}\")\n",
        "    print(f\"Head do DataFrame vazio:\\n\", df.head())\n",
        "    return df\n",
        "\n",
        "# --- 9. Função para Adicionar Dados ao DataFrame e Salvar no Excel ---\n",
        "def add_data_and_save(df, patient_id, fr, temp, pa, fc, nc, observations, mews_score, analyzed_obs_ia, file_path):\n",
        "    #print(f\"\\n--- Debug: add_data_and_save ---\")\n",
        "    #print(f\"DataFrame 'df' recebido (histórico). Shape: {df.shape}. Vazio? {df.empty}\")\n",
        "\n",
        "    # --- Revertido: Obter o timestamp simples (não timezone-aware) ---\n",
        "    timestamp_naive = datetime.datetime.now()\n",
        "    #print(f\"Debug: Timestamp simples (naive): {timestamp_naive}\")\n",
        "    # --- Fim da Reversão ---\n",
        "\n",
        "\n",
        "    new_row_df = pd.DataFrame([{\n",
        "        'Timestamp': timestamp_naive, # USAR O TIMESTAMP SIMPLES REVERTIDO\n",
        "        'Paciente_ID': patient_id,\n",
        "        'FR': fr,\n",
        "        'Temperatura': temp,\n",
        "        'PA_Sistolica': pa,\n",
        "        'FC': fc,\n",
        "        'Nivel_Consciencia': nc,\n",
        "        'Observacoes': observations,\n",
        "        'MEWS_Score': mews_score,\n",
        "        'Analise_Observacoes_IA': analyzed_obs_ia\n",
        "    }])\n",
        "    #print(f\"Nova linha 'new_row_df' criada. Shape: {new_row_df.shape}\")\n",
        "    #print(\"Conteúdo da nova linha:\\n\", new_row_df)\n",
        "\n",
        "\n",
        "    if df.empty:\n",
        "        print(\"DataFrame histórico está vazio. Usando nova linha como o DataFrame atualizado.\")\n",
        "        df_updated = new_row_df\n",
        "    else:\n",
        "        #print(\"DataFrame histórico NÃO está vazio. Concatenando.\")\n",
        "        df_updated = pd.concat([df, new_row_df], ignore_index=True)\n",
        "\n",
        "    #print(f\"DataFrame 'df_updated' antes de salvar. Shape: {df_updated.shape}\")\n",
        "    #print(\"Head do DataFrame 'df_updated':\\n\", df_updated.head())\n",
        "    #print(f\"Caminho do arquivo para salvar: {file_path}\")\n",
        "\n",
        "    try:\n",
        "        os.makedirs(os.path.dirname(file_path), exist_ok=True)\n",
        "        df_updated.to_excel(file_path, index=False)\n",
        "        print(f\"\\nDados salvos com sucesso: em {file_path}\")\n",
        "    except Exception as e:\n",
        "        print(f\"\\nErro ao salvar o arquivo Excel: {e}\")\n",
        "        print(\"Verifique se o Drive está montado corretamente e se o caminho está acessível.\")\n",
        "        print(f\"Caminho que falhou: {file_path}\")\n",
        "\n",
        "    return df_updated"
      ]
    },
    {
      "cell_type": "code",
      "execution_count": 10,
      "metadata": {
        "id": "IRaW2TD1Hrx2"
      },
      "outputs": [],
      "source": [
        "# --- Função para Exibir o Histórico (Tabela e Gráfico) ---\n",
        "# --- 10. Função para Exibir o Histórico (Tabela e Gráfico - COM DEBUG PRINT) ---\n",
        "def display_history(df, current_patient_id): # RECEBE O ID DO PACIENTE ATUAL\n",
        "    #print(f\"\\n--- Debug: display_history ---\")\n",
        "    #print(f\"DataFrame 'df' recebido (completo) para display. Shape: {df.shape}. Vazio? {df.empty}\")\n",
        "    #print(f\"Exibindo histórico apenas para o Paciente_ID: '{current_patient_id}'\") # DEBUG PRINT\n",
        "\n",
        "\n",
        "    # --- FILTRAR O DATAFRAME PELO ID DO PACIENTE ATUAL ---\n",
        "    df_filtered = df[df['Paciente_ID'] == current_patient_id].copy() # Filtra e cria uma cópia para evitar avisos\n",
        "    #print(f\"Debug: DataFrame FILTRADO para o paciente atual. Shape: {df_filtered.shape}. Vazio? {df_filtered.empty}\") # DEBUG PRINT\n",
        "    #print(\"Debug: Head do DataFrame FILTRADO:\\n\", df_filtered.head()) # DEBUG PRINT\n",
        "    # --- FIM DA ALTERAÇÃO DE FILTRO ---\n",
        "\n",
        "\n",
        "    if df_filtered.empty:\n",
        "        print(f\"\\n--- Histórico para Paciente: {current_patient_id} ---\") # Título com ID do paciente\n",
        "        print(\"Nenhum dado histórico para exibir para este paciente.\")\n",
        "        #print(\"Debug: DataFrame FILTRADO está vazio.\")\n",
        "        return\n",
        "\n",
        "    print(f\"\\n--- Histórico Completo para Paciente: {current_patient_id} (Tabela) ---\") # Título com ID do paciente\n",
        "    # Exibe a tabela usando o DataFrame FILTRADO\n",
        "    # Remove a coluna Paciente_ID da exibição da tabela filtrada, pois já está no título\n",
        "    print(df_filtered[['Timestamp', 'MEWS_Score', 'Observacoes', 'Analise_Observacoes_IA']].to_string())\n",
        "\n",
        "    print(f\"\\n--- Histórico para Paciente: {current_patient_id} (Gráfico de Score vs. Tempo) ---\") # Título com ID do paciente\n",
        "\n",
        "    # Plota o gráfico usando o DataFrame FILTRADO\n",
        "    if df_filtered.shape[0] > 1:\n",
        "        df_plot = df_filtered.copy() # Copia o DF FILTRADO\n",
        "        df_plot['Timestamp'] = pd.to_datetime(df_plot['Timestamp'])\n",
        "\n",
        "        plt.figure(figsize=(12, 6))\n",
        "        plt.plot(df_plot['Timestamp'], df_plot['MEWS_Score'], marker='o', linestyle='-')\n",
        "\n",
        "        plt.title(f'Evolução do Score MEWS para {current_patient_id}') # Título do gráfico com ID\n",
        "        plt.xlabel('Data e Hora')\n",
        "        plt.ylabel('Score MEWS')\n",
        "        plt.grid(True)\n",
        "        plt.xticks(rotation=45)\n",
        "        plt.tight_layout()\n",
        "        plt.show()\n",
        "        print(\"Debug: Gráfico plotado (mais de 1 ponto no FILTRADO).\")\n",
        "    else:\n",
        "        print(\"Debug: Apenas uma monitorização FILTRADA. Gráfico de linha requer pelo menos dois pontos.\")\n",
        "        # Plotar ponto único se houver 1 linha filtrada\n",
        "        if df_filtered.shape[0] == 1:\n",
        "             plt.figure(figsize=(8, 4))\n",
        "             plt.scatter(df_filtered['Timestamp'], df_filtered['MEWS_Score'], marker='o')\n",
        "             plt.title(f'Score MEWS para {current_patient_id} (Ponto Individual)') # Título do gráfico com ID\n",
        "             plt.xlabel('Data e Hora')\n",
        "             plt.ylabel('Score MEWS')\n",
        "             plt.xticks(rotation=45)\n",
        "             plt.tight_layout()\n",
        "             plt.show()\n",
        "             print(\"Debug: Gráfico de ponto único plotado (no FILTRADO).\")\n",
        "\n",
        "\n",
        "    print(f\"\\nPara ver as observações e a análise da IA de cada ponto do gráfico, consulte a Tabela de Histórico acima (apenas para {current_patient_id}).\")\n",
        "\n"
      ]
    },
    {
      "cell_type": "code",
      "execution_count": 11,
      "metadata": {
        "id": "S4DhSjzIQkWX"
      },
      "outputs": [],
      "source": [
        "# Função auxiliar para exibir texto formatado em Markdown no Colab\n",
        "def to_markdown(text):\n",
        "  text = text.replace('•', '  *')\n",
        "  return Markdown(textwrap.indent(text, '> ', predicate=lambda _: True))"
      ]
    },
    {
      "cell_type": "code",
      "execution_count": null,
      "metadata": {
        "colab": {
          "base_uri": "https://localhost:8080/",
          "height": 1000
        },
        "id": "drqRjP6CErmM",
        "outputId": "0924bfb1-e29d-409f-ceed-bfa7546e478d"
      },
      "outputs": [
        {
          "output_type": "stream",
          "name": "stdout",
          "text": [
            "--- Sistema MEWS com Registro no Google Drive e Suporte de IA ---\n",
            "⚠️ Lembre-se: A análise da IA é um suporte e NÃO substitui o julgamento clínico. ⚠️\n",
            "\n",
            "--- Debug: load_or_create_excel ---\n",
            "Tentando carregar arquivo de: /content/drive/My Drive/DadosMEWS/mews_pacientes.xlsx\n",
            "Arquivo /content/drive/My Drive/DadosMEWS/mews_pacientes.xlsx ENCONTRADO.\n",
            "Leitura do Excel bem-sucedida.\n",
            "Coluna 'Timestamp' convertida para datetime.\n",
            "DataFrame carregado está vazio? False\n",
            "\n",
            "--- Nova Monitorização ---\n",
            "Digite o ID ou Nome do Paciente (ou deixe em branco): Carlos\n",
            "Digite a Frequência Respiratória (ou 'não informado'): 20\n",
            "Digite a Temperatura (ex: 36.5 ou 'não informado'): 36\n",
            "Digite a Pressão Arterial Sistólica (ex: 120 ou 'não informado'): 80\n",
            "Digite a Frequência Cardíaca (ou 'não informado'): 30\n",
            "Digite o Nível de Consciência (Alerta, V (Resposta a estímulo verbal), P (Resposta a estímulo de dor), U (Sem resposta a estímulo) ou 'não informado'): Alerta\n",
            "Digite as Observações relevantes: \n",
            "\n",
            "========================================\n",
            "--- Resultado MEWS ---\n"
          ]
        },
        {
          "output_type": "display_data",
          "data": {
            "text/plain": [
              "<IPython.core.display.Markdown object>"
            ],
            "text/markdown": "> Score MEWS 7: Risco Crítico.  A pontuação elevada se deve principalmente à frequência cardíaca (30 bpm) extremamente baixa e à pressão arterial sistólica baixa (80 mmHg).  A frequência respiratória de 20 respirações por minuto, embora na faixa superior da normalidade, pode ter contribuído marginalmente para o score.\n> \n> Conforme o protocolo institucional para Score ≥6:  Avaliação do enfermeiro, adicionar equipe médica (transporte IMEDIATO), intervenção C.A.R. (Código Azul/Resposta à parada cardiorrespiratória - presumindo-se que C.A.R. seja esse código de resposta), transferência para UTI e monitorização contínua são necessárias.\n> \n> **Aconselhamento adicional:** Dada a bradicardia (FC baixa) e hipotensão (PA baixa), é crucial agir rapidamente.  A equipe médica deverá investigar a causa subjacente, como arritmias cardíacas, hipovolemia (perda de volume sanguíneo) ou outras condições que possam estar causando essa instabilidade hemodinâmica.  A monitorização contínua permitirá uma avaliação atenta da resposta do paciente às intervenções.  É imprescindível a administração de oxigênio suplementar.  A rapidez na resposta é fundamental para um prognóstico positivo.\n> \n> \n> --- Aviso: Esta interpretação foi gerada por IA e não substitui a avaliação e o julgamento clínico do profissional de saúde. Baseado APENAS no protocolo fornecido. ---"
          },
          "metadata": {}
        },
        {
          "output_type": "stream",
          "name": "stdout",
          "text": [
            "\n",
            "--- Análise de Observações (IA) ---\n"
          ]
        },
        {
          "output_type": "display_data",
          "data": {
            "text/plain": [
              "<IPython.core.display.Markdown object>"
            ],
            "text/markdown": "> Sem observações registradas."
          },
          "metadata": {}
        },
        {
          "output_type": "stream",
          "name": "stdout",
          "text": [
            "========================================\n",
            "\n",
            "\n",
            "Dados salvos com sucesso: em /content/drive/My Drive/DadosMEWS/mews_pacientes.xlsx\n",
            "\n",
            "--- Histórico Completo para Paciente: Carlos (Tabela) ---\n",
            "                   Timestamp  MEWS_Score Observacoes        Analise_Observacoes_IA\n",
            "0 2025-05-17 19:30:56.819000           2         NaN  Sem observações registradas.\n",
            "1 2025-05-17 19:41:57.923000           1         NaN  Sem observações registradas.\n",
            "5 2025-05-17 20:12:15.576000           5         NaN  Sem observações registradas.\n",
            "6 2025-05-17 20:24:17.481317           7              Sem observações registradas.\n",
            "\n",
            "--- Histórico para Paciente: Carlos (Gráfico de Score vs. Tempo) ---\n"
          ]
        },
        {
          "output_type": "display_data",
          "data": {
            "text/plain": [
              "<Figure size 1200x600 with 1 Axes>"
            ],
            "image/png": "[encoded data removed]"
          },
          "metadata": {}
        },
        {
          "output_type": "stream",
          "name": "stdout",
          "text": [
            "Debug: Gráfico plotado (mais de 1 ponto no FILTRADO).\n",
            "\n",
            "Para ver as observações e a análise da IA de cada ponto do gráfico, consulte a Tabela de Histórico acima (apenas para Carlos).\n"
          ]
        }
      ],
      "source": [
        "# --- 11. Fluxo Principal do Programa ---\n",
        "#display(to_markdown(interpretation_formatted))\n",
        "def main():\n",
        "    print(f\"--- Sistema MEWS com Registro no Google Drive e Suporte de IA ---\")\n",
        "    print(f\"⚠️ Lembre-se: A análise da IA é um suporte e NÃO substitui o julgamento clínico. ⚠️\")\n",
        "\n",
        "    # Esta função é chamada UMA VEZ no início para carregar o histórico COMPLETO\n",
        "    df_history = load_or_create_excel(excel_path)\n",
        "\n",
        "    while True:\n",
        "        print(f\"\\n--- Nova Monitorização ---\")\n",
        "        # PERGUNTA O ID/NOME DO PACIENTE NO INÍCIO DE CADA MONITORIZAÇÃO\n",
        "        patient_id = input(\"Digite o ID ou Nome do Paciente (ou deixe em branco): \") or \"Paciente Não Identificado\"\n",
        "        # Garantir que o ID do paciente é uma string e remover espaços extras\n",
        "        patient_id = str(patient_id).strip()\n",
        "        if patient_id == \"\":\n",
        "             patient_id = \"Paciente Não Identificado\" # Garante que não fica vazio\n",
        "\n",
        "\n",
        "        try:\n",
        "            fr_input = input(\"Digite a Frequência Respiratória (ou 'não informado'): \")\n",
        "            fr = int(fr_input) if fr_input.strip().lower() != 'não informado' else 'Não informado'\n",
        "\n",
        "            temp_input = input(\"Digite a Temperatura (ex: 36.5 ou 'não informado'): \")\n",
        "            temp = float(temp_input) if temp_input.strip().lower() != 'não informado' else 'Não informado'\n",
        "\n",
        "            pa_input = input(\"Digite a Pressão Arterial Sistólica (ex: 120 ou 'não informado'): \")\n",
        "            pa = int(pa_input) if pa_input.strip().lower() != 'não informado' else 'Não informado'\n",
        "\n",
        "            fc_input = input(\"Digite a Frequência Cardíaca (ou 'não informado'): \")\n",
        "            fc = int(fc_input) if fc_input.strip().lower() != 'não informado' else 'Não informado'\n",
        "\n",
        "            nc_input = input(\"Digite o Nível de Consciência (Alerta, V (Resposta a estímulo verbal), P (Resposta a estímulo de dor), U (Sem resposta a estímulo) ou 'não informado'): \")\n",
        "            nc = nc_input.strip()\n",
        "\n",
        "            observations = input(\"Digite as Observações relevantes: \")\n",
        "\n",
        "            vital_signs_input_str = f\"FR: {fr}, Temperatura: {temp}, PA Sistólica: {pa}, FC: {fc}, Nível de Consciência: {nc}\"\n",
        "\n",
        "        except ValueError as e:\n",
        "            print(f\"Entrada inválida: Por favor, digite números ou 'não informado' para os sinais vitais. Erro: {e}\")\n",
        "            continue\n",
        "\n",
        "        print(\"\\n\" + \"=\"*40)\n",
        "\n",
        "        mews_score = calculate_mews_score(fr, temp, pa, fc, nc)\n",
        "        interpretation_raw = interpret_mews_score_with_gemini(mews_score, vital_signs_input_str, \"Protocolo institucional\")\n",
        "        interpretation_formatted = interpretation_raw\n",
        "\n",
        "        print(f\"--- Resultado MEWS ---\")\n",
        "        #print(interpretation_formatted)\n",
        "        display(to_markdown(interpretation_formatted))\n",
        "\n",
        "        analyzed_obs_raw = analyze_observations_with_gemini(observations)\n",
        "        print(f\"\\n--- Análise de Observações (IA) ---\")\n",
        "        #print(analyzed_obs_raw)\n",
        "        display(to_markdown(analyzed_obs_raw))\n",
        "\n",
        "\n",
        "        print(\"=\"*40 + \"\\n\")\n",
        "\n",
        "        # --- Salvar Dados ---\n",
        "        # Passa o patient_id correto para a função de salvar\n",
        "        df_history = add_data_and_save(df_history, patient_id, fr, temp, pa, fc, nc, observations, mews_score, analyzed_obs_raw, excel_path)\n",
        "\n",
        "\n",
        "        # --- Exibir Histórico ---\n",
        "        # PASSA O patient_id PARA A FUNÇÃO DE EXIBIÇÃO\n",
        "        display_history(df_history, patient_id)\n",
        "\n",
        "        novo_paciente = input(f\"\\nDeseja adicionar uma nova monitorização? (s/n): \").lower()\n",
        "        if novo_paciente != 's':\n",
        "            break\n",
        "\n",
        "    print(f\"\\nSistema encerrado. Os dados e análises da IA estão salvos no Google Drive.\")\n",
        "\n",
        "\n",
        "# --- Executar o Programa Principal ---\n",
        "if __name__ == \"__main__\":\n",
        "    main()"
      ]
    }
  ],
  "metadata": {
    "colab": {
      "provenance": [],
      "authorship_tag": "ABX9TyO1YEJkhXPlS2ywSJNXu9JK",
      "include_colab_link": true
    },
    "kernelspec": {
      "display_name": "Python 3",
      "name": "python3"
    },
    "language_info": {
      "name": "python"
    }
  },
  "nbformat": 4,
  "nbformat_minor": 0
}